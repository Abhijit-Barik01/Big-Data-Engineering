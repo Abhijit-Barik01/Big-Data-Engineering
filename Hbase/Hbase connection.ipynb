{
 "cells": [
  {
   "cell_type": "markdown",
   "id": "158f231e",
   "metadata": {},
   "source": [
    "# HABSE ASSIGNMENT -1: Hbase connection with Python"
   ]
  },
  {
   "cell_type": "code",
   "execution_count": 13,
   "id": "f89aa02a",
   "metadata": {},
   "outputs": [
    {
     "name": "stdout",
     "output_type": "stream",
     "text": [
      "Requirement already satisfied: happybase in c:\\users\\abarik\\miniconda3\\lib\\site-packages (1.2.0)\n",
      "Requirement already satisfied: six in c:\\users\\abarik\\miniconda3\\lib\\site-packages (from happybase) (1.16.0)\n",
      "Requirement already satisfied: thriftpy2>=0.4 in c:\\users\\abarik\\miniconda3\\lib\\site-packages (from happybase) (0.4.14)\n",
      "Requirement already satisfied: ply<4.0,>=3.4 in c:\\users\\abarik\\miniconda3\\lib\\site-packages (from thriftpy2>=0.4->happybase) (3.11)\n",
      "Note: you may need to restart the kernel to use updated packages.\n"
     ]
    }
   ],
   "source": [
    "pip install happybase"
   ]
  },
  {
   "cell_type": "code",
   "execution_count": 14,
   "id": "d5acca78",
   "metadata": {},
   "outputs": [
    {
     "name": "stdout",
     "output_type": "stream",
     "text": [
      "hbase connection with Hbase\n",
      "\n",
      "List of Tables [b'cudtomer', b'customer', b'employee', b'mytable', b'mytable1', b'tomer', b'usertable']\n",
      "AlreadyExists(message=b'table name already in use')\n",
      "sucessfully inserted data\n",
      "\n",
      "Scanning over rows in a table\n",
      "\n",
      "b'row-key1' {b'cf1:col1': b'Avijit', b'cf1:col2': b'25'}\n",
      "b'row-key2' {b'cf1:col1': b'Anik', b'cf1:col2': b'36'}\n",
      "b'row-key3' {b'cf2:col3': b' fever medical bill', b'cf2:col4': b'3000'}\n",
      "b'row-key4' {b'cf2:col3': b' pox medical bill', b'cf2:col4': b'4400'}\n",
      "b'row-key5' {b'cf2:col6': b'BMW', b'cf3:col5': b' car brand'}\n",
      " deleting record sucessfully\n",
      "\n",
      "Scanning over rows in a table\n",
      "\n",
      "b'row-key1' {b'cf1:col1': b'Avijit', b'cf1:col2': b'25'}\n",
      "b'row-key2' {b'cf1:col1': b'Anik', b'cf1:col2': b'36'}\n",
      "b'row-key3' {b'cf2:col3': b' fever medical bill', b'cf2:col4': b'3000'}\n",
      "b'row-key4' {b'cf2:col3': b' pox medical bill', b'cf2:col4': b'4400'}\n"
     ]
    }
   ],
   "source": [
    "import happybase \n",
    "connection=happybase.Connection('192.168.56.101',port=9090,autoconnect=True)\n",
    "if(connection):\n",
    "   print(\"hbase connection with Hbase\\n\")\n",
    "else:\n",
    "   print(\"Not connecting\\n\")\n",
    "\n",
    "connection.open()\n",
    "\n",
    "print(\"List of Tables {0}\".format(connection.tables()))\n",
    "\n",
    "#creating table schema\n",
    "\n",
    "try:\n",
    "   connection.create_table(\n",
    "    'usertable',\n",
    "    {'cf1':dict(),\n",
    "     'cf2':dict(),\n",
    "      'cf3':dict()\n",
    "    }\n",
    ")\n",
    "except Exception as e:\n",
    "   print(e)\n",
    "else:\n",
    "   print(\"table sucessfully created\\n\")\n",
    "   \n",
    "\n",
    "#inserting data\n",
    "table = connection.table('usertable')\n",
    "\n",
    "try:\n",
    "   table.put(b'row-key1', {b'cf1:col1': b'Avijit',b'cf1:col2': b'25'})\n",
    "\n",
    "   table.put(b'row-key2', {b'cf1:col1': b'Anik', b'cf1:col2': b'36'})\n",
    "   table.put(b'row-key3', {b'cf2:col3': b' fever medical bill', b'cf2:col4': b'3000'})\n",
    "   table.put(b'row-key4', {b'cf2:col3': b' pox medical bill', b'cf2:col4': b'4400'})\n",
    "   table.put(b'row-key5', {b'cf3:col5': b' car brand', b'cf2:col6': b'BMW'})\n",
    "\n",
    "except Exception as e:\n",
    "   print(e)\n",
    "else:\n",
    "   print(\"sucessfully inserted data\\n\")\n",
    "\n",
    "print(\"Scanning over rows in a table\\n\")\n",
    "for key, data in table.scan():\n",
    "    print(key, data)\n",
    "   \n",
    "try:\n",
    "   table.delete(b'row-key5', columns=[b'cf3:col5', b'cf2:col6'])\n",
    "except Exception as e:\n",
    "   print(e)\n",
    "else:\n",
    "   print(\" deleting record sucessfully\\n\")\n",
    "\n",
    "\n",
    "print(\"Scanning over rows in a table\\n\")\n",
    "for key, data in table.scan():\n",
    "    print(key, data)"
   ]
  },
  {
   "cell_type": "code",
   "execution_count": null,
   "id": "13ade1fe",
   "metadata": {},
   "outputs": [],
   "source": []
  },
  {
   "cell_type": "code",
   "execution_count": null,
   "id": "949494f1",
   "metadata": {},
   "outputs": [],
   "source": []
  }
 ],
 "metadata": {
  "kernelspec": {
   "display_name": "Python 3 (ipykernel)",
   "language": "python",
   "name": "python3"
  },
  "language_info": {
   "codemirror_mode": {
    "name": "ipython",
    "version": 3
   },
   "file_extension": ".py",
   "mimetype": "text/x-python",
   "name": "python",
   "nbconvert_exporter": "python",
   "pygments_lexer": "ipython3",
   "version": "3.9.12"
  }
 },
 "nbformat": 4,
 "nbformat_minor": 5
}
